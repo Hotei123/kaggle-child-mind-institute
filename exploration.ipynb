{
 "cells": [
  {
   "cell_type": "code",
   "execution_count": null,
   "metadata": {},
   "outputs": [],
   "source": [
    "import tensorflow as tf\n",
    "\n",
    "# Create a sample tensor with NaN values\n",
    "tensor = tf.constant([[1.0, float('nan'), 3.0],\n",
    "                      [float('nan'), 5.0, 6.0]])\n",
    "\n",
    "# Define the value you want to replace NaNs with\n",
    "fill_value = 0.0\n",
    "\n",
    "# Use tf.where to replace NaNs with the specified fill_value\n",
    "filled_tensor = tf.where(tf.math.is_nan(tensor), fill_value, tensor)\n",
    "\n",
    "print(\"Original Tensor:\\n\", tensor.numpy())\n",
    "print(\"Tensor with NaNs filled:\\n\", filled_tensor.numpy())\n"
   ]
  },
  {
   "cell_type": "code",
   "execution_count": 5,
   "metadata": {},
   "outputs": [
    {
     "data": {
      "text/plain": [
       "7.500714457326919e-05"
      ]
     },
     "execution_count": 5,
     "metadata": {},
     "output_type": "execute_result"
    }
   ],
   "source": [
    "import numpy as np\n",
    "\n",
    "0.0001 * np.random.random()"
   ]
  },
  {
   "cell_type": "code",
   "execution_count": 1,
   "metadata": {},
   "outputs": [
    {
     "data": {
      "text/plain": [
       "(3960, 82)"
      ]
     },
     "execution_count": 1,
     "metadata": {},
     "output_type": "execute_result"
    }
   ],
   "source": [
    "import pandas as pd\n",
    "\n",
    "df = pd.read_csv('data/child-mind-institute-problematic-internet-use/train.csv')\n",
    "df.shape"
   ]
  },
  {
   "cell_type": "code",
   "execution_count": 4,
   "metadata": {},
   "outputs": [
    {
     "name": "stdout",
     "output_type": "stream",
     "text": [
      "0.0 0.1\n",
      "0.1 0.2\n",
      "0.2 0.30000000000000004\n",
      "0.30000000000000004 0.4\n",
      "0.4 0.5\n",
      "0.5 0.6000000000000001\n",
      "0.6000000000000001 0.7000000000000001\n",
      "0.7000000000000001 0.8\n",
      "0.8 0.9\n",
      "0.9 1.0\n"
     ]
    }
   ],
   "source": [
    "n_folds = 10\n",
    "delta = 1 / n_folds\n",
    "for i in range(n_folds):\n",
    "    print(i * delta, (i + 1) * delta)"
   ]
  },
  {
   "cell_type": "code",
   "execution_count": 2,
   "metadata": {},
   "outputs": [
    {
     "data": {
      "text/plain": [
       "0.2056"
      ]
     },
     "execution_count": 2,
     "metadata": {},
     "output_type": "execute_result"
    }
   ],
   "source": [
    "import numpy as np\n",
    "\n",
    "np.mean([-0.005, 0.252, 0.265, 0.101, 0.345, 0.222, 0.368, 0.217, 0.015, 0.276])"
   ]
  },
  {
   "cell_type": "code",
   "execution_count": 13,
   "metadata": {},
   "outputs": [
    {
     "data": {
      "text/plain": [
       "array([[1.        , 0.21647918, 0.27638113],\n",
       "       [0.30604167, 0.90116868, 0.68067177],\n",
       "       [0.48317543, 0.71754194, 0.46064133]])"
      ]
     },
     "execution_count": 13,
     "metadata": {},
     "output_type": "execute_result"
    }
   ],
   "source": [
    "import numpy as np\n",
    "\n",
    "x = np.random.random((3, 3))\n",
    "x[0, 0] = 0\n",
    "x[x == 0] = 1\n",
    "x"
   ]
  },
  {
   "cell_type": "code",
   "execution_count": 6,
   "metadata": {},
   "outputs": [],
   "source": [
    "import pathlib\n",
    "import pandas as pd\n",
    "\n",
    "path_train_series = pathlib.Path('data/child-mind-institute-problematic-internet-use/series_train.parquet')\n",
    "dims = []\n",
    "for path in path_train_series.rglob('*.parquet'):\n",
    "    dims.append(pd.read_parquet(path).shape)"
   ]
  },
  {
   "cell_type": "code",
   "execution_count": 7,
   "metadata": {},
   "outputs": [],
   "source": [
    "dims_0 = [x[0] for x in dims]\n",
    "dims_1 = [x[1] for x in dims]"
   ]
  },
  {
   "cell_type": "code",
   "execution_count": 14,
   "metadata": {},
   "outputs": [
    {
     "data": {
      "text/plain": [
       "array([13])"
      ]
     },
     "execution_count": 14,
     "metadata": {},
     "output_type": "execute_result"
    }
   ],
   "source": [
    "import numpy as np\n",
    "\n",
    "np.unique(dims_1)"
   ]
  },
  {
   "cell_type": "code",
   "execution_count": 11,
   "metadata": {},
   "outputs": [
    {
     "data": {
      "text/plain": [
       "(array([105.,  63.,  53.,  87., 156., 520.,   2.,   7.,   1.,   2.]),\n",
       " array([   927. ,  76455.5, 151984. , 227512.5, 303041. , 378569.5,\n",
       "        454098. , 529626.5, 605155. , 680683.5, 756212. ]),\n",
       " <BarContainer object of 10 artists>)"
      ]
     },
     "execution_count": 11,
     "metadata": {},
     "output_type": "execute_result"
    },
    {
     "data": {
      "image/png": "[encoded data removed]",
      "text/plain": [
       "<Figure size 640x480 with 1 Axes>"
      ]
     },
     "metadata": {},
     "output_type": "display_data"
    }
   ],
   "source": [
    "import matplotlib.pyplot as plt\n",
    "\n",
    "plt.hist(dims_0)"
   ]
  },
  {
   "cell_type": "code",
   "execution_count": 6,
   "metadata": {},
   "outputs": [
    {
     "name": "stdout",
     "output_type": "stream",
     "text": [
      "float_list {\n",
      "  value: 1.0\n",
      "  value: 2.5\n",
      "  value: 3.799999952316284\n",
      "}\n",
      "\n"
     ]
    }
   ],
   "source": [
    "import tensorflow as tf\n",
    "import numpy as np\n",
    "\n",
    "def _float_feature_list(values):\n",
    "    \"\"\"Returns a float_list from a float / double.\"\"\"\n",
    "    return tf.train.Feature(float_list=tf.train.FloatList(value=values))\n",
    "\n",
    "\n",
    "float_values = np.array([1.0, 2.5, 3.8])\n",
    "\n",
    "# Convert to tf.train.Feature\n",
    "feature = _float_feature_list(float_values)\n",
    "\n",
    "print(feature)"
   ]
  },
  {
   "cell_type": "code",
   "execution_count": 7,
   "metadata": {},
   "outputs": [
    {
     "name": "stdout",
     "output_type": "stream",
     "text": [
      "b'\\n\"\\n \\n\\x0cfloat_values\\x12\\x10\\x12\\x0e\\n\\x0c\\x00\\x00\\x80?\\x00\\x00 @33s@'\n"
     ]
    }
   ],
   "source": [
    "example = tf.train.Example(features=tf.train.Features(feature={\n",
    "    \"float_values\": _float_feature_list([1.0, 2.5, 3.8]),\n",
    "}))\n",
    "\n",
    "# Serialize the example\n",
    "serialized_example = example.SerializeToString()\n",
    "\n",
    "print(serialized_example)"
   ]
  },
  {
   "cell_type": "code",
   "execution_count": 8,
   "metadata": {},
   "outputs": [
    {
     "data": {
      "text/plain": [
       "<tf.Tensor: shape=(3,), dtype=float32, numpy=array([1. , 2.5, 3.8], dtype=float32)>"
      ]
     },
     "execution_count": 8,
     "metadata": {},
     "output_type": "execute_result"
    }
   ],
   "source": [
    "feature_description = {\n",
    "    \"float_values\": tf.io.FixedLenFeature([3], tf.float32),  # Fixed length: 3 floats\n",
    "}\n",
    "\n",
    "parsed_example = tf.io.parse_single_example(serialized_example, feature_description)\n",
    "\n",
    "# Access the parsed data\n",
    "float_values = parsed_example[\"float_values\"]\n",
    "\n",
    "float_values"
   ]
  },
  {
   "cell_type": "code",
   "execution_count": 9,
   "metadata": {},
   "outputs": [
    {
     "data": {
      "text/plain": [
       "array([0., 0., 0., 0., 0.])"
      ]
     },
     "execution_count": 9,
     "metadata": {},
     "output_type": "execute_result"
    }
   ],
   "source": [
    "np.zeros(5)"
   ]
  }
 ],
 "metadata": {
  "kernelspec": {
   "display_name": "kaggle-deep-3",
   "language": "python",
   "name": "python3"
  },
  "language_info": {
   "codemirror_mode": {
    "name": "ipython",
    "version": 3
   },
   "file_extension": ".py",
   "mimetype": "text/x-python",
   "name": "python",
   "nbconvert_exporter": "python",
   "pygments_lexer": "ipython3",
   "version": "3.8.20"
  }
 },
 "nbformat": 4,
 "nbformat_minor": 2
}
